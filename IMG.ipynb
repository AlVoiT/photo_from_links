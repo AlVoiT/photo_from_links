{
 "cells": [
  {
   "cell_type": "code",
   "execution_count": 5,
   "id": "dd651085-66b2-4350-8119-4fc8fd1ad36a",
   "metadata": {
    "collapsed": true,
    "jupyter": {
     "outputs_hidden": true,
     "source_hidden": true
    },
    "tags": []
   },
   "outputs": [
    {
     "name": "stdout",
     "output_type": "stream",
     "text": [
      "AA\n"
     ]
    }
   ],
   "source": [
    ">>> from openpyxl import Workbook\n",
    ">>> from openpyxl.utils import get_column_letter\n",
    ">>>\n",
    ">>> wb = Workbook()\n",
    ">>>\n",
    ">>> dest_filename = 'empty_book.xlsx'\n",
    ">>>\n",
    ">>> ws1 = wb.active\n",
    ">>> ws1.title = \"range names\"\n",
    ">>>\n",
    ">>> for row in range(1, 40):\n",
    "...     ws1.append(range(600))\n",
    ">>>\n",
    ">>> ws2 = wb.create_sheet(title=\"Pi\")\n",
    ">>>\n",
    ">>> ws2['F5'] = 3.14\n",
    ">>>\n",
    ">>> ws3 = wb.create_sheet(title=\"Data\")\n",
    ">>> for row in range(10, 20):\n",
    "...     for col in range(27, 54):\n",
    "...         _ = ws3.cell(column=col, row=row, value=\"{0}\".format(get_column_letter(col)))\n",
    ">>> print(ws3['AA10'].value)\n",
    "\n",
    ">>> wb.save(filename = dest_filename)"
   ]
  },
  {
   "cell_type": "code",
   "execution_count": 1,
   "id": "0b0ed805-328e-4bc4-9337-82c4eb8153fb",
   "metadata": {
    "jupyter": {
     "source_hidden": true
    },
    "tags": []
   },
   "outputs": [],
   "source": [
    ">>> import openpyxl\n",
    ">>> wb = openpyxl.Workbook()\n",
    ">>> ws = wb.create_sheet()\n",
    ">>> ws.column_dimensions.group('A','D', hidden=True)\n",
    ">>> ws.row_dimensions.group(1,10, hidden=True)\n",
    ">>> wb.save('group.xlsx')\n"
   ]
  },
  {
   "cell_type": "code",
   "execution_count": 17,
   "id": "f0209532-937b-4361-ba35-0d362674c86d",
   "metadata": {
    "collapsed": true,
    "jupyter": {
     "outputs_hidden": true,
     "source_hidden": true
    },
    "tags": []
   },
   "outputs": [
    {
     "ename": "AttributeError",
     "evalue": "'Image' object has no attribute 'info'",
     "output_type": "error",
     "traceback": [
      "\u001b[1;31m---------------------------------------------------------------------------\u001b[0m",
      "\u001b[1;31mAttributeError\u001b[0m                            Traceback (most recent call last)",
      "\u001b[1;32m<ipython-input-17-340322c5edce>\u001b[0m in \u001b[0;36m<module>\u001b[1;34m\u001b[0m\n\u001b[0;32m      7\u001b[0m \u001b[1;31m# create an image\u001b[0m\u001b[1;33m\u001b[0m\u001b[1;33m\u001b[0m\u001b[1;33m\u001b[0m\u001b[0m\n\u001b[0;32m      8\u001b[0m \u001b[0mimg\u001b[0m \u001b[1;33m=\u001b[0m \u001b[0mImage\u001b[0m\u001b[1;33m(\u001b[0m\u001b[1;34m'pic1.jpeg'\u001b[0m\u001b[1;33m)\u001b[0m\u001b[1;33m\u001b[0m\u001b[1;33m\u001b[0m\u001b[0m\n\u001b[1;32m----> 9\u001b[1;33m \u001b[0mprint\u001b[0m\u001b[1;33m(\u001b[0m\u001b[0mimg\u001b[0m\u001b[1;33m.\u001b[0m\u001b[0minfo\u001b[0m\u001b[1;33m[\u001b[0m\u001b[1;34m'dpi'\u001b[0m\u001b[1;33m]\u001b[0m\u001b[1;33m)\u001b[0m\u001b[1;33m\u001b[0m\u001b[1;33m\u001b[0m\u001b[0m\n\u001b[0m\u001b[0;32m     10\u001b[0m \u001b[1;31m# add to worksheet and anchor next to cells\u001b[0m\u001b[1;33m\u001b[0m\u001b[1;33m\u001b[0m\u001b[1;33m\u001b[0m\u001b[0m\n\u001b[0;32m     11\u001b[0m \u001b[0mws\u001b[0m\u001b[1;33m.\u001b[0m\u001b[0madd_image\u001b[0m\u001b[1;33m(\u001b[0m\u001b[0mimg\u001b[0m\u001b[1;33m,\u001b[0m \u001b[1;34m'A1'\u001b[0m\u001b[1;33m)\u001b[0m\u001b[1;33m\u001b[0m\u001b[1;33m\u001b[0m\u001b[0m\n",
      "\u001b[1;31mAttributeError\u001b[0m: 'Image' object has no attribute 'info'"
     ]
    }
   ],
   "source": [
    ">>> from openpyxl import Workbook\n",
    ">>> from openpyxl.drawing.image import Image\n",
    ">>>\n",
    ">>> wb = Workbook()\n",
    ">>> ws = wb.active\n",
    ">>> ws['A1'] = 'You should see three logos below'\n",
    ">>> # create an image\n",
    ">>> img = Image('pic1.jpeg')\n",
    ">>> print(img.info['dpi'])\n",
    ">>> # add to worksheet and anchor next to cells\n",
    ">>> ws.add_image(img, 'A1')\n",
    ">>> wb.save('logo.xlsx')"
   ]
  },
  {
   "cell_type": "code",
   "execution_count": 8,
   "id": "8c37c112-71e0-4623-9ac5-35bd4f411aad",
   "metadata": {
    "collapsed": true,
    "jupyter": {
     "outputs_hidden": true
    },
    "tags": []
   },
   "outputs": [
    {
     "name": "stdout",
     "output_type": "stream",
     "text": [
      "DONE!\n",
      "--- 33.56252980232239 seconds ---\n"
     ]
    }
   ],
   "source": [
    "import requests\n",
    "import openpyxl as op\n",
    "import time\n",
    "\n",
    "INCOMING = 'DATA.xlsx'\n",
    "OUTGOING = 'DATA_edited.xlsx'\n",
    "\n",
    "wb = op.load_workbook(INCOMING)\n",
    "ws = wb['DATA']\n",
    "\n",
    "\n",
    "def get_data():\n",
    "    data = [column for column in ws.iter_cols(min_row=2, min_col=2, max_col=2, values_only=True) ]\n",
    "    return data\n",
    "\n",
    "def paste_img(img,counter):\n",
    "    image = op.drawing.image.Image(img)\n",
    "    image.width = 70\n",
    "    image.height = 64\n",
    "    ws.add_image(image,f'B{counter}')\n",
    "\n",
    "def looper(data):\n",
    "    counter = 2\n",
    "    for link in data[0]:\n",
    "        name = string(link)\n",
    "        paste_img(f'{name}.jpeg',counter)\n",
    "        counter += 1\n",
    "\n",
    "def string(name):\n",
    "    try:\n",
    "        number_format = name.index('.jpeg')\n",
    "    except:\n",
    "        try:\n",
    "            number_format = name.index('.jpg')\n",
    "        except:\n",
    "            number_format = 0\n",
    "    number_url = name.index('')\n",
    "    new_name = name[number_format-1:18:-1].replace('/','_')\n",
    "    return new_name         \n",
    "        \n",
    "def download_img(link):\n",
    "    name = string(link)\n",
    "    with open(f'{name}.jpeg', 'wb') as handle:\n",
    "            response = requests.get(link, stream=True)\n",
    "            if not response.ok:\n",
    "                print  (response)\n",
    "            for block in response.iter_content(1024):\n",
    "                if not block:\n",
    "                    break\n",
    "                handle.write(block)\n",
    "                  \n",
    "def start():\n",
    "    data = get_data()              \n",
    "    for link in data[0]:\n",
    "        download_img(link)\n",
    "    looper(data)\n",
    "    wb.save(OUTGOING)\n",
    "    print('DONE!')\n",
    "    \n",
    "if __name__ == '__main__':\n",
    "    start_time = time.time()\n",
    "    start()\n",
    "    print(\"--- %s seconds ---\" % (time.time() - start_time))\n",
    "\n"
   ]
  },
  {
   "cell_type": "code",
   "execution_count": null,
   "id": "6c87747f-10b7-4f12-9a4f-619fd3e1292c",
   "metadata": {
    "jupyter": {
     "source_hidden": true
    },
    "tags": []
   },
   "outputs": [],
   "source": []
  }
 ],
 "metadata": {
  "kernelspec": {
   "display_name": "Python 3",
   "language": "python",
   "name": "python3"
  },
  "language_info": {
   "codemirror_mode": {
    "name": "ipython",
    "version": 3
   },
   "file_extension": ".py",
   "mimetype": "text/x-python",
   "name": "python",
   "nbconvert_exporter": "python",
   "pygments_lexer": "ipython3",
   "version": "3.8.8"
  }
 },
 "nbformat": 4,
 "nbformat_minor": 5
}
