{
 "cells": [
  {
   "cell_type": "code",
   "execution_count": 8,
   "id": "8c37c112-71e0-4623-9ac5-35bd4f411aad",
   "metadata": {
    "collapsed": true,
    "jupyter": {
     "outputs_hidden": true
    },
    "tags": []
   },
   "outputs": [
    {
     "name": "stdout",
     "output_type": "stream",
     "text": [
      "DONE!\n",
      "--- 33.56252980232239 seconds ---\n"
     ]
    }
   ],
   "source": [
    "import requests\n",
    "import openpyxl as op\n",
    "import time\n",
    "\n",
    "INCOMING = 'DATA.xlsx'\n",
    "OUTGOING = 'DATA_edited.xlsx'\n",
    "\n",
    "wb = op.load_workbook(INCOMING)\n",
    "ws = wb['DATA']\n",
    "\n",
    "\n",
    "def get_data():\n",
    "    data = [column for column in ws.iter_cols(min_row=2, min_col=2, max_col=2, values_only=True) ]\n",
    "    return data\n",
    "\n",
    "def paste_img(img,counter):\n",
    "    image = op.drawing.image.Image(img)\n",
    "    image.width = 70\n",
    "    image.height = 64\n",
    "    ws.add_image(image,f'B{counter}')\n",
    "\n",
    "def looper(data):\n",
    "    counter = 2\n",
    "    for link in data[0]:\n",
    "        name = string(link)\n",
    "        paste_img(f'{name}.jpeg',counter)\n",
    "        counter += 1\n",
    "\n",
    "def string(name):\n",
    "    try:\n",
    "        number_format = name.index('.jpeg')\n",
    "    except:\n",
    "        try:\n",
    "            number_format = name.index('.jpg')\n",
    "        except:\n",
    "            number_format = 0\n",
    "    number_url = name.index('')\n",
    "    new_name = name[number_format-1:18:-1].replace('/','_')\n",
    "    return new_name         \n",
    "        \n",
    "def download_img(link):\n",
    "    name = string(link)\n",
    "    with open(f'{name}.jpeg', 'wb') as handle:\n",
    "            response = requests.get(link, stream=True)\n",
    "            if not response.ok:\n",
    "                print  (response)\n",
    "            for block in response.iter_content(1024):\n",
    "                if not block:\n",
    "                    break\n",
    "                handle.write(block)\n",
    "                  \n",
    "def start():\n",
    "    data = get_data()              \n",
    "    for link in data[0]:\n",
    "        download_img(link)\n",
    "    looper(data)\n",
    "    wb.save(OUTGOING)\n",
    "    print('DONE!')\n",
    "    \n",
    "if __name__ == '__main__':\n",
    "    start_time = time.time()\n",
    "    start()\n",
    "    print(\"--- %s seconds ---\" % (time.time() - start_time))\n",
    "\n"
   ]
  }
 ],
 "metadata": {
  "kernelspec": {
   "display_name": "Python 3",
   "language": "python",
   "name": "python3"
  },
  "language_info": {
   "codemirror_mode": {
    "name": "ipython",
    "version": 3
   },
   "file_extension": ".py",
   "mimetype": "text/x-python",
   "name": "python",
   "nbconvert_exporter": "python",
   "pygments_lexer": "ipython3",
   "version": "3.8.8"
  }
 },
 "nbformat": 4,
 "nbformat_minor": 5
}
